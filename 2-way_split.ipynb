{
 "cells": [
  {
   "cell_type": "code",
   "execution_count": 1,
   "id": "d76333bf-0f96-4187-988a-a747ed20e50d",
   "metadata": {},
   "outputs": [],
   "source": [
    "import pandas as pd\n",
    "from sklearn.model_selection import train_test_split\n",
    "import matplotlib.pyplot as plt\n"
   ]
  },
  {
   "cell_type": "code",
   "execution_count": 3,
   "id": "a9a1c699-782a-44b1-8d08-f6165f1b3926",
   "metadata": {},
   "outputs": [
    {
     "name": "stdout",
     "output_type": "stream",
     "text": [
      "    Age  Gender Education Level          Job Title  Years of Experience  \\\n",
      "0  32.0    Male      Bachelor's  Software Engineer                  5.0   \n",
      "1  28.0  Female        Master's       Data Analyst                  3.0   \n",
      "2  45.0    Male             PhD     Senior Manager                 15.0   \n",
      "3  36.0  Female      Bachelor's    Sales Associate                  7.0   \n",
      "4  52.0    Male        Master's           Director                 20.0   \n",
      "\n",
      "     Salary  \n",
      "0   90000.0  \n",
      "1   65000.0  \n",
      "2  150000.0  \n",
      "3   60000.0  \n",
      "4  200000.0  \n",
      "<class 'pandas.core.frame.DataFrame'>\n",
      "RangeIndex: 375 entries, 0 to 374\n",
      "Data columns (total 6 columns):\n",
      " #   Column               Non-Null Count  Dtype  \n",
      "---  ------               --------------  -----  \n",
      " 0   Age                  373 non-null    float64\n",
      " 1   Gender               373 non-null    object \n",
      " 2   Education Level      373 non-null    object \n",
      " 3   Job Title            373 non-null    object \n",
      " 4   Years of Experience  373 non-null    float64\n",
      " 5   Salary               373 non-null    float64\n",
      "dtypes: float64(3), object(3)\n",
      "memory usage: 17.7+ KB\n",
      "None\n"
     ]
    }
   ],
   "source": [
    "# Replace 'your_data.csv' with your file\n",
    "df = pd.read_csv(\"Salary Data.csv\")\n",
    "\n",
    "# Quick look at the data\n",
    "print(df.head())\n",
    "print(df.info())\n"
   ]
  },
  {
   "cell_type": "code",
   "execution_count": 4,
   "id": "37956691-e34b-43d2-af5a-274a27f995e0",
   "metadata": {},
   "outputs": [
    {
     "name": "stdout",
     "output_type": "stream",
     "text": [
      "Data shape after handling NaN: (373, 6)\n"
     ]
    }
   ],
   "source": [
    "# Option 1: Drop rows with any NaN\n",
    "df_clean = df.dropna()\n",
    "\n",
    "# Option 2: Fill NaN with mean (for numeric columns)\n",
    "# df_clean = df.fillna(df.mean())\n",
    "\n",
    "print(\"Data shape after handling NaN:\", df_clean.shape)\n"
   ]
  },
  {
   "cell_type": "code",
   "execution_count": 5,
   "id": "a3fbd3fb-9d47-4d09-af2e-2f377123bef7",
   "metadata": {},
   "outputs": [],
   "source": [
    "# Assume 'Salary' is the target column\n",
    "X = df_clean.drop('Salary', axis=1)  # features\n",
    "y = df_clean['Salary']               # target\n"
   ]
  },
  {
   "cell_type": "code",
   "execution_count": 6,
   "id": "4bb8b254-4428-496c-8d1a-28ead12f577d",
   "metadata": {},
   "outputs": [
    {
     "name": "stdout",
     "output_type": "stream",
     "text": [
      "Training data shape: (298, 5)\n",
      "Testing data shape: (75, 5)\n"
     ]
    }
   ],
   "source": [
    "X_train, X_test, y_train, y_test = train_test_split(\n",
    "    X, y, test_size=0.2, random_state=42\n",
    ")\n",
    "\n",
    "print(\"Training data shape:\", X_train.shape)\n",
    "print(\"Testing data shape:\", X_test.shape)\n"
   ]
  },
  {
   "cell_type": "code",
   "execution_count": 7,
   "id": "85678cee-3aaf-432b-8170-0069650f235f",
   "metadata": {},
   "outputs": [
    {
     "name": "stdout",
     "output_type": "stream",
     "text": [
      "\n",
      "Target mean values:\n",
      "Overall mean: 100577.34584450402\n",
      "Training mean: 100101.84563758389\n",
      "Testing mean: 102466.66666666667\n",
      "\n",
      "Target median values:\n",
      "Overall median: 95000.0\n",
      "Training median: 95000.0\n",
      "Testing median: 100000.0\n"
     ]
    }
   ],
   "source": [
    "print(\"\\nTarget mean values:\")\n",
    "print(\"Overall mean:\", y.mean())\n",
    "print(\"Training mean:\", y_train.mean())\n",
    "print(\"Testing mean:\", y_test.mean())\n",
    "\n",
    "print(\"\\nTarget median values:\")\n",
    "print(\"Overall median:\", y.median())\n",
    "print(\"Training median:\", y_train.median())\n",
    "print(\"Testing median:\", y_test.median())\n"
   ]
  },
  {
   "cell_type": "code",
   "execution_count": 8,
   "id": "2572be6d-e01b-4f13-8950-69bb1ca2b7d5",
   "metadata": {},
   "outputs": [
    {
     "name": "stdout",
     "output_type": "stream",
     "text": [
      "\n",
      "Mean difference between train and test: 2.35%\n"
     ]
    }
   ],
   "source": [
    "mean_diff = abs(y_train.mean() - y_test.mean())\n",
    "mean_diff_percent = (mean_diff / y.mean()) * 100\n",
    "print(f\"\\nMean difference between train and test: {mean_diff_percent:.2f}%\")\n"
   ]
  },
  {
   "cell_type": "code",
   "execution_count": 9,
   "id": "4795659e-9af8-4854-84e8-c80409b73558",
   "metadata": {},
   "outputs": [
    {
     "data": {
      "image/png": "[encoded data removed]",
      "text/plain": [
       "<Figure size 600x400 with 1 Axes>"
      ]
     },
     "metadata": {},
     "output_type": "display_data"
    }
   ],
   "source": [
    "# Calculate sizes\n",
    "train_size = len(X_train)\n",
    "test_size = len(X_test)\n",
    "total = train_size + test_size\n",
    "\n",
    "percent_train = (train_size / total) * 100\n",
    "percent_test = (test_size / total) * 100\n",
    "\n",
    "# Bar chart\n",
    "plt.figure(figsize=(6,4))\n",
    "plt.bar(['Train', 'Test'], [percent_train, percent_test], color=['blue', 'red'])\n",
    "plt.ylabel(\"Percentage (%)\")\n",
    "plt.title(\"Train vs Test Split Percentage\")\n",
    "plt.ylim(0, 100)\n",
    "\n",
    "# Add percentage labels on top\n",
    "plt.text(0, percent_train + 1, f\"{percent_train:.1f}%\", ha='center', fontsize=12)\n",
    "plt.text(1, percent_test + 1, f\"{percent_test:.1f}%\", ha='center', fontsize=12)\n",
    "\n",
    "plt.show()\n"
   ]
  },
  {
   "cell_type": "code",
   "execution_count": null,
   "id": "2018f503-74a0-4d0a-ba18-defdb3a419dd",
   "metadata": {},
   "outputs": [],
   "source": []
  }
 ],
 "metadata": {
  "kernelspec": {
   "display_name": "Python [conda env:base] *",
   "language": "python",
   "name": "conda-base-py"
  },
  "language_info": {
   "codemirror_mode": {
    "name": "ipython",
    "version": 3
   },
   "file_extension": ".py",
   "mimetype": "text/x-python",
   "name": "python",
   "nbconvert_exporter": "python",
   "pygments_lexer": "ipython3",
   "version": "3.12.7"
  }
 },
 "nbformat": 4,
 "nbformat_minor": 5
}
